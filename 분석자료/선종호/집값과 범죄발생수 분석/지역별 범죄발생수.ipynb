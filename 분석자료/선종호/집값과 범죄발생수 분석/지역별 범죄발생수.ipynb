{
 "cells": [
  {
   "cell_type": "code",
   "execution_count": 1,
   "metadata": {},
   "outputs": [],
   "source": [
    "from matplotlib import font_manager, rc\n",
    "font_path = \"C:/Windows/Fonts/NGULIM.TTF\"\n",
    "font = font_manager.FontProperties(fname=font_path).get_name()\n",
    "rc('font', family=font)"
   ]
  },
  {
   "cell_type": "code",
   "execution_count": 2,
   "metadata": {},
   "outputs": [],
   "source": [
    "import matplotlib.pyplot as plt\n",
    "plt.rc('font', family='NanumGothic')"
   ]
  },
  {
   "cell_type": "code",
   "execution_count": null,
   "metadata": {},
   "outputs": [],
   "source": [
    "import pandas as pd\n",
    "import matplotlib.pyplot as plt\n",
    "import matplotlib as mpl\n",
    "\n",
    "# 한글 폰트 설정\n",
    "mpl.rcParams['font.family'] = 'Malgun Gothic'\n",
    "\n",
    "# CSV 파일을 읽어옵니다.\n",
    "df = pd.read_csv('범죄발생수.csv', encoding='utf-8')\n",
    "\n",
    "# 컬럼 이름을 지정합니다.\n",
    "df.columns = ['지역', '범죄발생수']\n",
    "\n",
    "# x축과 y축 데이터를 설정합니다.\n",
    "x = df['지역']\n",
    "y = df['범죄발생수']\n",
    "\n",
    "# 바데이터로 시각화합니다.\n",
    "plt.bar(x, y)\n",
    "\n",
    "# 그래프 제목과 x축, y축 제목을 설정합니다.\n",
    "plt.title('지역별 범죄발생수')\n",
    "plt.xlabel('지역')\n",
    "plt.ylabel('범죄발생수')\n",
    "\n",
    "# 그래프를 출력합니다.\n",
    "plt.show()"
   ]
  }
 ],
 "metadata": {
  "kernelspec": {
   "display_name": "base",
   "language": "python",
   "name": "python3"
  },
  "language_info": {
   "codemirror_mode": {
    "name": "ipython",
    "version": 3
   },
   "file_extension": ".py",
   "mimetype": "text/x-python",
   "name": "python",
   "nbconvert_exporter": "python",
   "pygments_lexer": "ipython3",
   "version": "3.8.5"
  },
  "orig_nbformat": 4
 },
 "nbformat": 4,
 "nbformat_minor": 2
}
