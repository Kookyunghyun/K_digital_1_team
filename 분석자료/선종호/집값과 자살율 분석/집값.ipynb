{
 "cells": [
  {
   "cell_type": "code",
   "execution_count": 7,
   "metadata": {},
   "outputs": [],
   "source": [
    "# 데이터 불러오기\n",
    "import pandas as pd\n",
    "csv_test = pd.read_csv('집값2.csv',encoding='cp949')"
   ]
  },
  {
   "cell_type": "code",
   "execution_count": 8,
   "metadata": {},
   "outputs": [
    {
     "data": {
      "text/html": [
       "<div>\n",
       "<style scoped>\n",
       "    .dataframe tbody tr th:only-of-type {\n",
       "        vertical-align: middle;\n",
       "    }\n",
       "\n",
       "    .dataframe tbody tr th {\n",
       "        vertical-align: top;\n",
       "    }\n",
       "\n",
       "    .dataframe thead th {\n",
       "        text-align: right;\n",
       "    }\n",
       "</style>\n",
       "<table border=\"1\" class=\"dataframe\">\n",
       "  <thead>\n",
       "    <tr style=\"text-align: right;\">\n",
       "      <th></th>\n",
       "      <th>지역</th>\n",
       "      <th>가격</th>\n",
       "    </tr>\n",
       "  </thead>\n",
       "  <tbody>\n",
       "    <tr>\n",
       "      <th>0</th>\n",
       "      <td>서울특별시</td>\n",
       "      <td>16.76</td>\n",
       "    </tr>\n",
       "    <tr>\n",
       "      <th>1</th>\n",
       "      <td>경기도</td>\n",
       "      <td>5.70</td>\n",
       "    </tr>\n",
       "    <tr>\n",
       "      <th>2</th>\n",
       "      <td>인천</td>\n",
       "      <td>3.80</td>\n",
       "    </tr>\n",
       "    <tr>\n",
       "      <th>3</th>\n",
       "      <td>강원도</td>\n",
       "      <td>2.45</td>\n",
       "    </tr>\n",
       "    <tr>\n",
       "      <th>4</th>\n",
       "      <td>세종특별자치시</td>\n",
       "      <td>5.27</td>\n",
       "    </tr>\n",
       "    <tr>\n",
       "      <th>5</th>\n",
       "      <td>충청북도</td>\n",
       "      <td>1.95</td>\n",
       "    </tr>\n",
       "    <tr>\n",
       "      <th>6</th>\n",
       "      <td>충청남도</td>\n",
       "      <td>2.26</td>\n",
       "    </tr>\n",
       "    <tr>\n",
       "      <th>7</th>\n",
       "      <td>대전광역시</td>\n",
       "      <td>3.95</td>\n",
       "    </tr>\n",
       "    <tr>\n",
       "      <th>8</th>\n",
       "      <td>경상북도</td>\n",
       "      <td>2.06</td>\n",
       "    </tr>\n",
       "    <tr>\n",
       "      <th>9</th>\n",
       "      <td>경상남도</td>\n",
       "      <td>2.55</td>\n",
       "    </tr>\n",
       "    <tr>\n",
       "      <th>10</th>\n",
       "      <td>대구광역시</td>\n",
       "      <td>3.92</td>\n",
       "    </tr>\n",
       "    <tr>\n",
       "      <th>11</th>\n",
       "      <td>부산광역시</td>\n",
       "      <td>3.86</td>\n",
       "    </tr>\n",
       "    <tr>\n",
       "      <th>12</th>\n",
       "      <td>울산광역시</td>\n",
       "      <td>3.08</td>\n",
       "    </tr>\n",
       "    <tr>\n",
       "      <th>13</th>\n",
       "      <td>전라북도</td>\n",
       "      <td>1.96</td>\n",
       "    </tr>\n",
       "    <tr>\n",
       "      <th>14</th>\n",
       "      <td>전라남도</td>\n",
       "      <td>1.96</td>\n",
       "    </tr>\n",
       "    <tr>\n",
       "      <th>15</th>\n",
       "      <td>광주광역시</td>\n",
       "      <td>2.98</td>\n",
       "    </tr>\n",
       "    <tr>\n",
       "      <th>16</th>\n",
       "      <td>제주도</td>\n",
       "      <td>4.15</td>\n",
       "    </tr>\n",
       "  </tbody>\n",
       "</table>\n",
       "</div>"
      ],
      "text/plain": [
       "         지역     가격\n",
       "0     서울특별시  16.76\n",
       "1       경기도   5.70\n",
       "2        인천   3.80\n",
       "3       강원도   2.45\n",
       "4   세종특별자치시   5.27\n",
       "5      충청북도   1.95\n",
       "6      충청남도   2.26\n",
       "7     대전광역시   3.95\n",
       "8      경상북도   2.06\n",
       "9      경상남도   2.55\n",
       "10    대구광역시   3.92\n",
       "11    부산광역시   3.86\n",
       "12    울산광역시   3.08\n",
       "13     전라북도   1.96\n",
       "14     전라남도   1.96\n",
       "15    광주광역시   2.98\n",
       "16      제주도   4.15"
      ]
     },
     "execution_count": 8,
     "metadata": {},
     "output_type": "execute_result"
    }
   ],
   "source": [
    "csv_test"
   ]
  },
  {
   "cell_type": "code",
   "execution_count": 6,
   "metadata": {},
   "outputs": [],
   "source": [
    "from matplotlib import font_manager, rc\n",
    "font_path = \"C:/Windows/Fonts/NGULIM.TTF\"\n",
    "font = font_manager.FontProperties(fname=font_path).get_name()\n",
    "rc('font', family=font)"
   ]
  },
  {
   "cell_type": "code",
   "execution_count": 7,
   "metadata": {},
   "outputs": [
    {
     "data": {
      "image/png": "[encoded data removed]",
      "text/plain": [
       "<Figure size 432x288 with 1 Axes>"
      ]
     },
     "metadata": {
      "needs_background": "light"
     },
     "output_type": "display_data"
    }
   ],
   "source": [
    "import pandas as pd\n",
    "import matplotlib.pyplot as plt\n",
    "\n",
    "# CSV 파일을 읽어옵니다.\n",
    "df = pd.read_csv('집값1.csv', encoding='cp949')\n",
    "\n",
    "# 컬럼 이름을 지정합니다.\n",
    "df.columns = ['지역', '가격']\n",
    "\n",
    "# x축과 y축 데이터를 설정합니다.\n",
    "x = df['지역']\n",
    "y = df['가격']\n",
    "\n",
    "# 바데이터로 시각화합니다.\n",
    "plt.bar(x, y)\n",
    "\n",
    "# 그래프 제목과 x축, y축 제목을 설정합니다.\n",
    "plt.title('지역별 가격')\n",
    "plt.xlabel('지역')\n",
    "plt.ylabel('가격')\n",
    "\n",
    "# 그래프를 출력합니다.\n",
    "plt.show()"
   ]
  },
  {
   "cell_type": "code",
   "execution_count": 10,
   "metadata": {},
   "outputs": [
    {
     "data": {
      "image/png": "[encoded data removed]",
      "text/plain": [
       "<Figure size 432x288 with 1 Axes>"
      ]
     },
     "metadata": {
      "needs_background": "light"
     },
     "output_type": "display_data"
    }
   ],
   "source": [
    "import pandas as pd\n",
    "import matplotlib.pyplot as plt\n",
    "\n",
    "# CSV 파일을 읽어옵니다. header=None으로 설정하여 첫 번째 행을 컬럼 이름이 아닌 데이터로 읽어들입니다.\n",
    "df = pd.read_csv('집값1.csv', encoding='cp949')\n",
    "\n",
    "# 컬럼 이름을 지정합니다.\n",
    "df.columns = ['지역', '가격']\n",
    "\n",
    "# 지역과 가격 데이터를 설정합니다.\n",
    "x = df['지역']\n",
    "y = df['가격']\n",
    "\n",
    "# 선 그래프로 시각화합니다.\n",
    "plt.plot(x, y)\n",
    "\n",
    "# 그래프 제목과 x축, y축 제목을 설정합니다.\n",
    "plt.title('지역별 가격')\n",
    "plt.xlabel('지역')\n",
    "plt.ylabel('가격')\n",
    "\n",
    "# 그래프를 출력합니다.\n",
    "plt.show()"
   ]
  },
  {
   "cell_type": "code",
   "execution_count": 12,
   "metadata": {},
   "outputs": [
    {
     "data": {
      "image/png": "[encoded data removed]",
      "text/plain": [
       "<Figure size 432x288 with 1 Axes>"
      ]
     },
     "metadata": {
      "needs_background": "light"
     },
     "output_type": "display_data"
    }
   ],
   "source": [
    "import pandas as pd\n",
    "import matplotlib.pyplot as plt\n",
    "\n",
    "# CSV 파일을 읽어옵니다.\n",
    "df = pd.read_csv('집값1.csv', encoding='cp949')\n",
    "\n",
    "# 컬럼 이름을 지정합니다.\n",
    "df.columns = ['지역', '가격']\n",
    "\n",
    "# x축과 y축 데이터를 설정합니다.\n",
    "x = df['가격']\n",
    "y = df['지역']\n",
    "\n",
    "# 수평 바 차트로 시각화합니다.\n",
    "plt.barh(y, x)\n",
    "\n",
    "# 그래프 제목과 x축, y축 제목을 설정합니다.\n",
    "plt.title('지역별 가격')\n",
    "plt.xlabel('가격')\n",
    "plt.ylabel('지역')\n",
    "\n",
    "# 그래프를 출력합니다.\n",
    "plt.show()"
   ]
  },
  {
   "cell_type": "code",
   "execution_count": 13,
   "metadata": {},
   "outputs": [
    {
     "data": {
      "image/png": "[encoded data removed]",
      "text/plain": [
       "<Figure size 432x288 with 1 Axes>"
      ]
     },
     "metadata": {
      "needs_background": "light"
     },
     "output_type": "display_data"
    }
   ],
   "source": [
    "import pandas as pd\n",
    "import matplotlib.pyplot as plt\n",
    "\n",
    "# CSV 파일을 읽어옵니다.\n",
    "df = pd.read_csv('집값1.csv', encoding='cp949')\n",
    "\n",
    "# 컬럼 이름을 지정합니다.\n",
    "df.columns = ['지역', '가격']\n",
    "\n",
    "# 데이터를 가격 순서대로 정렬합니다.\n",
    "df_sorted = df.sort_values('가격')\n",
    "\n",
    "# x축과 y축 데이터를 설정합니다.\n",
    "x = df_sorted['지역']\n",
    "y = df_sorted['가격']\n",
    "\n",
    "# 바 데이터로 시각화합니다.\n",
    "plt.bar(x, y)\n",
    "\n",
    "# 그래프 제목과 x축, y축 제목을 설정합니다.\n",
    "plt.title('지역별 가격')\n",
    "plt.xlabel('지역')\n",
    "plt.ylabel('가격')\n",
    "\n",
    "# 그래프를 출력합니다.\n",
    "plt.show()"
   ]
  },
  {
   "cell_type": "code",
   "execution_count": 14,
   "metadata": {},
   "outputs": [
    {
     "data": {
      "image/png": "[encoded data removed]",
      "text/plain": [
       "<Figure size 432x288 with 1 Axes>"
      ]
     },
     "metadata": {
      "needs_background": "light"
     },
     "output_type": "display_data"
    }
   ],
   "source": [
    "import pandas as pd\n",
    "import matplotlib.pyplot as plt\n",
    "\n",
    "# CSV 파일을 읽어옵니다.\n",
    "df = pd.read_csv('집값1.csv', encoding='cp949')\n",
    "\n",
    "# 컬럼 이름을 지정합니다.\n",
    "df.columns = ['지역', '가격']\n",
    "\n",
    "# 데이터를 가격 순서대로 정렬합니다.\n",
    "df_sorted = df.sort_values('가격')\n",
    "\n",
    "# x축과 y축 데이터를 설정합니다.\n",
    "x = df_sorted['지역']\n",
    "y = df_sorted['가격']\n",
    "\n",
    "# 바 데이터로 시각화합니다.\n",
    "plt.barh(x, y)\n",
    "\n",
    "# 그래프 제목과 x축, y축 제목을 설정합니다.\n",
    "plt.title('지역별 가격')\n",
    "plt.xlabel('지역')\n",
    "plt.ylabel('가격')\n",
    "\n",
    "# 그래프를 출력합니다.\n",
    "plt.show()"
   ]
  }
 ],
 "metadata": {
  "kernelspec": {
   "display_name": "base",
   "language": "python",
   "name": "python3"
  },
  "language_info": {
   "codemirror_mode": {
    "name": "ipython",
    "version": 3
   },
   "file_extension": ".py",
   "mimetype": "text/x-python",
   "name": "python",
   "nbconvert_exporter": "python",
   "pygments_lexer": "ipython3",
   "version": "3.8.5"
  },
  "orig_nbformat": 4,
  "vscode": {
   "interpreter": {
    "hash": "4b69f4b06172c80088ae8e97c1aa5f38237e39b2c76a7cdd47abc166e3a1add8"
   }
  }
 },
 "nbformat": 4,
 "nbformat_minor": 2
}
